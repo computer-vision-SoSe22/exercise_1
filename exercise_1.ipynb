{
 "cells": [
  {
   "cell_type": "markdown",
   "metadata": {
    "deletable": false,
    "editable": false,
    "nbgrader": {
     "cell_type": "markdown",
     "checksum": "26cab562335f7e0f2ffbdba3ecd6cd52",
     "grade": false,
     "grade_id": "cell-dd5cc37369156752",
     "locked": true,
     "schema_version": 3,
     "solution": false,
     "task": false
    }
   },
   "source": [
    "This exercise includes five parts:\n",
    "1. Gaussian filtering\n",
    "2. Fourier transform\n",
    "3. Image derivatives\n",
    "4. Edge detection\n",
    "5. Hough transform\n",
    "\n",
    "**Important:** \n",
    "Follow the instructions below when submitting your attempt.\n",
    "Submissions not following these instructions will not be graded.\n",
    "1. Do not remove or modify any given cells, except those in which you need to fill in your implementation. You can add cells in order to present additional texts or plots.\n",
    "2. Restart the kernel and re-run the whole notebook once before submission. After this step, the cell id should be incremental from top to bottom, and all plots should be displayed.\n",
    "3. Submit only the `.ipynb` file, and do not change the file name."
   ]
  },
  {
   "cell_type": "code",
   "execution_count": null,
   "metadata": {
    "deletable": false,
    "editable": false,
    "nbgrader": {
     "cell_type": "code",
     "checksum": "9464c0e3f2287cf082a774a3a5a0b1fc",
     "grade": false,
     "grade_id": "cell-ea82104ac1cf02d8",
     "locked": true,
     "schema_version": 3,
     "solution": false,
     "task": false
    }
   },
   "outputs": [],
   "source": [
    "%%html\n",
    "<!-- Run this cell to add heading letters per subtask (like a, b, c) -->\n",
    "<style>\n",
    "body {counter-reset: section;}\n",
    "h1:before {counter-increment: section;\n",
    "           content: counter(section, number) \". \";}\n",
    "</style>"
   ]
  },
  {
   "cell_type": "code",
   "execution_count": null,
   "metadata": {
    "deletable": false,
    "editable": false,
    "nbgrader": {
     "cell_type": "code",
     "checksum": "4b02dc8751f6afc5ad34f322de146ff7",
     "grade": false,
     "grade_id": "cell-63750c7bdb00ed93",
     "locked": true,
     "schema_version": 3,
     "solution": false,
     "task": false
    }
   },
   "outputs": [],
   "source": [
    "%matplotlib notebook\n",
    "import numpy as np\n",
    "import scipy.signal\n",
    "from scipy import ndimage\n",
    "import matplotlib as mpl\n",
    "import matplotlib.pyplot as plt\n",
    "import matplotlib.image as mpimg\n",
    "import cv2\n",
    "import imageio"
   ]
  },
  {
   "cell_type": "markdown",
   "metadata": {
    "deletable": false,
    "editable": false,
    "nbgrader": {
     "cell_type": "markdown",
     "checksum": "9ea3b5c5872e1fbb5fb236decf0c9388",
     "grade": false,
     "grade_id": "cell-796243e42a593a0f",
     "locked": true,
     "schema_version": 3,
     "solution": false,
     "task": false
    }
   },
   "source": [
    "# Gaussian filtering\n",
    "In the following, you will implement a method which generates and applies a Gaussian filter for a given variance and number of samples."
   ]
  },
  {
   "cell_type": "code",
   "execution_count": null,
   "metadata": {
    "deletable": false,
    "editable": false,
    "nbgrader": {
     "cell_type": "code",
     "checksum": "30b625b9c7ca43dd3c603d8914c57257",
     "grade": false,
     "grade_id": "cell-12c71e1393632034",
     "locked": true,
     "schema_version": 3,
     "solution": false,
     "task": false
    }
   },
   "outputs": [],
   "source": [
    "# Some convenience functions.\n",
    "\n",
    "def plot_multiple(images, titles, colormap='gray', max_columns=np.inf, share_axes=True):\n",
    "    \"\"\"Plot multiple images as subplots on a grid.\"\"\"\n",
    "    assert len(images) == len(titles)\n",
    "    n_images = len(images)\n",
    "    n_cols = min(max_columns, n_images)\n",
    "    n_rows = int(np.ceil(n_images / n_cols))\n",
    "    fig, axes = plt.subplots(\n",
    "        n_rows, n_cols, figsize=(n_cols * 4, n_rows * 4),\n",
    "        squeeze=False, sharex=share_axes, sharey=share_axes)\n",
    "\n",
    "    axes = axes.flat\n",
    "    # Hide subplots without content\n",
    "    for ax in axes[n_images:]:\n",
    "        ax.axis('off')\n",
    "        \n",
    "    if not isinstance(colormap, (list,tuple)):\n",
    "        colormaps = [colormap]*n_images\n",
    "    else:\n",
    "        colormaps = colormap\n",
    "\n",
    "    for ax, image, title, cmap in zip(axes, images, titles, colormaps):\n",
    "        ax.imshow(image, cmap=cmap)\n",
    "        ax.set_title(title)\n",
    "        \n",
    "    fig.tight_layout()"
   ]
  },
  {
   "cell_type": "markdown",
   "metadata": {
    "deletable": false,
    "editable": false,
    "nbgrader": {
     "cell_type": "markdown",
     "checksum": "f8d143e1422a2a93956512dd45158983",
     "grade": false,
     "grade_id": "cell-05c9f523b7ff124a",
     "locked": true,
     "schema_version": 3,
     "solution": false,
     "task": false
    }
   },
   "source": [
    "Start by writing a function ``gauss`` which creates a 1D Gaussian from a given vector of integer indices $\\mathtt{x = [-w, \\ldots, w]}$:\n",
    "$$\n",
    "    \\mathtt{G[i]} = \\frac{1}{\\sqrt{2\\pi}\\sigma}\\operatorname{exp}\\biggl(-\\frac{\\mathtt{x[i]}^2}{2\\sigma^2}\\biggr)\n",
    "$$\n",
    "where $\\sigma$ is the standard deviation.\n",
    "\n",
    "Tip: In NumPy the best practice is to use functions on entire arrays at once, instead of iterating over items one by one. This makes the code easier to understand and also faster (since the actual loop is implemented in C under the hood)."
   ]
  },
  {
   "cell_type": "code",
   "execution_count": null,
   "metadata": {
    "deletable": false,
    "nbgrader": {
     "cell_type": "code",
     "checksum": "02cddcfb816df1387f57450539814048",
     "grade": true,
     "grade_id": "cell-cc8f6edd928cdffb",
     "locked": false,
     "points": 1,
     "schema_version": 3,
     "solution": true
    }
   },
   "outputs": [],
   "source": [
    "# POINTS: 1\n",
    "\n",
    "def gauss(x, sigma):\n",
    "    # YOUR CODE HERE\n",
    "    raise NotImplementedError()"
   ]
  },
  {
   "cell_type": "code",
   "execution_count": null,
   "metadata": {
    "deletable": false,
    "editable": false,
    "nbgrader": {
     "cell_type": "code",
     "checksum": "6543052613fb73787a813f1f6db38326",
     "grade": false,
     "grade_id": "cell-099a258c8d73e783",
     "locked": true,
     "schema_version": 3,
     "solution": false,
     "task": false
    }
   },
   "outputs": [],
   "source": [
    "x = np.linspace(-5, 5, 100)\n",
    "y = gauss(x, sigma=2)\n",
    "fig, ax = plt.subplots()\n",
    "ax.plot(x, y)\n",
    "fig.tight_layout()\n",
    "\n",
    "print(\"Gauss of 5 is\", gauss(5, sigma=2))"
   ]
  },
  {
   "cell_type": "markdown",
   "metadata": {
    "deletable": false,
    "editable": false,
    "nbgrader": {
     "cell_type": "markdown",
     "checksum": "3ea84b7ef9144b047948971152aadeca",
     "grade": false,
     "grade_id": "cell-b2984d372bb5182a",
     "locked": true,
     "schema_version": 3,
     "solution": false,
     "task": false
    }
   },
   "source": [
    "Use the above function to implement a function `gaussian_filter(image, sigma, padding)`, which first generates a Gaussian filter and then applies it to the `image`.\n",
    "The size of the filter should be $2 \\cdot \\lceil 3 \\sigma \\rceil + 1$.\n",
    "Remember that the Gaussian is separable, *i.e.* that an equivalent 2D result can be obtained through a sequence of two 1D filtering operations.\n",
    "Do not use any existing implementation for convolution in this part (e.g. `scipy.ndimage.convolve`).\n",
    "However, you are allowed to use these implementations in the following questions."
   ]
  },
  {
   "cell_type": "code",
   "execution_count": null,
   "metadata": {
    "deletable": false,
    "nbgrader": {
     "cell_type": "code",
     "checksum": "c419315cfc180ffe1ff02cdab7aa2bca",
     "grade": true,
     "grade_id": "cell-add6d96484bc6c7e",
     "locked": false,
     "points": 5,
     "schema_version": 3,
     "solution": true,
     "task": false
    }
   },
   "outputs": [],
   "source": [
    "# POINTS: 5\n",
    "\n",
    "def gaussian_filter(image, sigma, padding=True):\n",
    "    # YOUR CODE HERE\n",
    "    raise NotImplementedError()\n",
    "    return image_result"
   ]
  },
  {
   "cell_type": "markdown",
   "metadata": {
    "deletable": false,
    "editable": false,
    "nbgrader": {
     "cell_type": "markdown",
     "checksum": "3acbd1c338e5a828501f2a8f2bc4dbf5",
     "grade": false,
     "grade_id": "cell-5a67e4418ba2d1a9",
     "locked": true,
     "schema_version": 3,
     "solution": false,
     "task": false
    }
   },
   "source": [
    "Read the image ``graf_small.png`` and apply the filters with ``sigma = 2``, ``4``, and ``8``.\n",
    "Again, choose the kernel size as $2 \\cdot \\lceil 3 \\sigma\\rceil + 1$.\n",
    "What do you observe?"
   ]
  },
  {
   "cell_type": "code",
   "execution_count": null,
   "metadata": {
    "deletable": false,
    "editable": false,
    "nbgrader": {
     "cell_type": "code",
     "checksum": "135ddb5ee6d082e9048d5b4a6bb26236",
     "grade": false,
     "grade_id": "cell-4e57a63100a2a6f5",
     "locked": true,
     "schema_version": 3,
     "solution": false,
     "task": false
    }
   },
   "outputs": [],
   "source": [
    "image = imageio.imread('graf_small.png')\n",
    "sigmas = [2, 4, 8]\n",
    "blurred_images = [gaussian_filter(image, s) for s in sigmas]\n",
    "titles = [f'sigma={s}' for s in sigmas]\n",
    "\n",
    "plot_multiple(blurred_images, titles)"
   ]
  },
  {
   "cell_type": "markdown",
   "metadata": {
    "deletable": false,
    "editable": false,
    "nbgrader": {
     "cell_type": "markdown",
     "checksum": "c96f1db74c2229ebd721d1cf67452ac5",
     "grade": false,
     "grade_id": "cell-cddf0a455fd28a27",
     "locked": true,
     "schema_version": 3,
     "solution": false,
     "task": false
    }
   },
   "source": [
    "OpenCV has many built-in function for image smoothing.\n",
    "Check out this page:\n",
    "https://docs.opencv.org/3.1.0/d4/d13/tutorial_py_filtering.html\n",
    "\n",
    "Compare the result of ``cv2.GaussianBlur`` with your own implementation by computing the difference image.\n",
    "Was your implementation correct?"
   ]
  },
  {
   "cell_type": "code",
   "execution_count": null,
   "metadata": {
    "deletable": false,
    "editable": false,
    "nbgrader": {
     "cell_type": "code",
     "checksum": "d70c6dcf39e65b10c29982e45c81f795",
     "grade": false,
     "grade_id": "cell-cc2728a8104625b3",
     "locked": true,
     "schema_version": 3,
     "solution": false,
     "task": false
    }
   },
   "outputs": [],
   "source": [
    "def gauss_cv(image, sigma):\n",
    "    ks = 2 * int(np.ceil(3 * sigma)) + 1\n",
    "    return cv2.GaussianBlur(image, (ks, ks), sigma, cv2.BORDER_DEFAULT)\n",
    "\n",
    "def abs_diff(image1, image2):\n",
    "    image1 = image1.astype(np.float32)\n",
    "    image2 = image2.astype(np.float32)\n",
    "    return np.mean(np.abs(image1-image2), axis=-1)\n",
    "\n",
    "blurred_images_cv = [gauss_cv(image, s) for s in sigmas]\n",
    "differences = [abs_diff(x,y) for x, y in zip(blurred_images, blurred_images_cv)]\n",
    "\n",
    "plot_multiple(blurred_images_cv, titles)\n",
    "plot_multiple(differences, titles)\n",
    "\n",
    "# Small differences (around 1-2) can be expected because of rounding\n",
    "# Mouse over the difference image and see the value in the corner in square brackets"
   ]
  },
  {
   "cell_type": "markdown",
   "metadata": {
    "deletable": false,
    "editable": false,
    "nbgrader": {
     "cell_type": "markdown",
     "checksum": "66be0daca7bb9a364262336854aee4e8",
     "grade": false,
     "grade_id": "cell-c31c64a0c62a5668",
     "locked": true,
     "schema_version": 3,
     "solution": false,
     "task": false
    }
   },
   "source": [
    "# Fourier transform\n",
    "\n",
    "In this part, we look at the effect of filtering in Fourier space.\n",
    "This gives us a different way of looking at images and yields deeper insights to what is going on when we apply a filter or downsample an image."
   ]
  },
  {
   "cell_type": "code",
   "execution_count": null,
   "metadata": {
    "deletable": false,
    "editable": false,
    "nbgrader": {
     "cell_type": "code",
     "checksum": "cdaa4c654891c5c31ffc0745c245c788",
     "grade": false,
     "grade_id": "cell-ac80ddac488a1800",
     "locked": true,
     "schema_version": 3,
     "solution": false,
     "task": false
    }
   },
   "outputs": [],
   "source": [
    "# Some Convenience Functions.\n",
    "\n",
    "def imread_gray(filename):\n",
    "    \"\"\"Read grayscale image from our data directory.\"\"\"\n",
    "    return cv2.imread(filename, cv2.IMREAD_GRAYSCALE).astype(np.float32)\n",
    "\n",
    "def convolve_with_two(image, kernel1, kernel2):\n",
    "    \"\"\"Apply two filters, one after the other.\"\"\"\n",
    "    image = ndimage.convolve(image, kernel1, mode='wrap')\n",
    "    image = ndimage.convolve(image, kernel2, mode='wrap')\n",
    "    return image\n",
    "\n",
    "def fourier_spectrum(im):\n",
    "    normalized_im = im / np.sum(im)\n",
    "    f = np.fft.fft2(normalized_im)\n",
    "    return np.fft.fftshift(f)\n",
    "\n",
    "def log_magnitude_spectrum(im):\n",
    "    return np.log(np.abs(fourier_spectrum(im))+1e-8)\n",
    "\n",
    "def plot_with_spectra(images, titles):\n",
    "    \"\"\"Plots a list of images in the first column and the logarithm of their\n",
    "    magnitude spectrum in the second column.\"\"\"\n",
    "    \n",
    "    assert len(images) == len(titles)\n",
    "    n_cols = 2\n",
    "    n_rows = len(images)\n",
    "    fig, axes = plt.subplots(\n",
    "        n_rows, 2, figsize=(n_cols * 4, n_rows * 4),\n",
    "        squeeze=False)\n",
    "\n",
    "    spectra = [log_magnitude_spectrum(im) for im in images]\n",
    "\n",
    "    lower = min(np.percentile(s, 0.1) for s in spectra)\n",
    "    upper = min(np.percentile(s, 99.999) for s in spectra)\n",
    "    normalizer = mpl.colors.Normalize(vmin=lower, vmax=upper)\n",
    "    \n",
    "    for ax, image, spectrum, title in zip(axes, images, spectra, titles):\n",
    "        ax[0].imshow(image, cmap='gray')\n",
    "        ax[0].set_title(title)\n",
    "        ax[0].set_axis_off()\n",
    "        c = ax[1].imshow(spectrum, norm=normalizer, cmap='viridis')\n",
    "        ax[1].set_title('Log magnitude spectrum')\n",
    "        ax[1].set_axis_off()\n",
    "        \n",
    "    fig.tight_layout()\n",
    "    \n",
    "def gauss(x, sigma):\n",
    "    return 1 / np.sqrt(2 * np.pi) / sigma * np.exp(- x**2 / 2 / sigma**2)\n",
    "    \n",
    "def generate_pattern():\n",
    "    x = np.linspace(0, 1, 256, endpoint=False)\n",
    "    y = np.sin(x**2 * 16 * np.pi)\n",
    "    return np.outer(y,y)/2+0.5"
   ]
  },
  {
   "cell_type": "markdown",
   "metadata": {
    "deletable": false,
    "editable": false,
    "nbgrader": {
     "cell_type": "markdown",
     "checksum": "fb2784c8ac03177bc54dbd66540a3c68",
     "grade": false,
     "grade_id": "cell-238824fec0163e13",
     "locked": true,
     "schema_version": 3,
     "solution": false,
     "task": false
    }
   },
   "source": [
    "**Plotting demo:**\n",
    "This is how you can load example images and plot the logarithm of its magnitude spectrum.\n",
    "Low frequencies appear near the center and higher frequencies towards the outside.\n",
    "Greener (lighter) colors mean higher values. The color scale is consistent within the subplots of a single plot, but may differ in different plots."
   ]
  },
  {
   "cell_type": "code",
   "execution_count": null,
   "metadata": {
    "deletable": false,
    "editable": false,
    "nbgrader": {
     "cell_type": "code",
     "checksum": "cd064b2282474b1f0af15f5386eea702",
     "grade": false,
     "grade_id": "cell-11e051f9c3539a1a",
     "locked": true,
     "schema_version": 3,
     "solution": false,
     "task": false
    }
   },
   "outputs": [],
   "source": [
    "im_grass = imread_gray('grass.jpg')\n",
    "im_zebras = imread_gray('zebras.jpg')\n",
    "im_pattern = generate_pattern()\n",
    "plot_with_spectra([im_grass, im_zebras, im_pattern], ['Grass image', 'Zebra image', 'Pattern image'])"
   ]
  },
  {
   "cell_type": "markdown",
   "metadata": {
    "deletable": false,
    "editable": false,
    "nbgrader": {
     "cell_type": "markdown",
     "checksum": "c5f6b420ee978f6e7b8d29a6841ac9b1",
     "grade": false,
     "grade_id": "cell-35165fc62439f2eb",
     "locked": true,
     "schema_version": 3,
     "solution": false,
     "task": false
    }
   },
   "source": [
    "## Blurring\n",
    "\n",
    "Consider one of the images (`im_grass` is a good choice). Implement `filter_box(image, size)` that outputs the box-filtered version of `image`, using `convolve_with_two` (since the box filter is separable). The parameter `size` refers to the side length of the box filter."
   ]
  },
  {
   "cell_type": "code",
   "execution_count": null,
   "metadata": {
    "deletable": false,
    "nbgrader": {
     "cell_type": "code",
     "checksum": "5424f97f4a6ab4e5e532dcbed7466c06",
     "grade": true,
     "grade_id": "cell-43b000bd1a7221ac",
     "locked": false,
     "points": 2,
     "schema_version": 3,
     "solution": true,
     "task": false
    }
   },
   "outputs": [],
   "source": [
    "# POINTS: 2\n",
    "\n",
    "def filter_box(image, sigma):\n",
    "    # YOUR CODE HERE\n",
    "    raise NotImplementedError()"
   ]
  },
  {
   "cell_type": "markdown",
   "metadata": {
    "deletable": false,
    "editable": false,
    "nbgrader": {
     "cell_type": "markdown",
     "checksum": "cdc60e23c33b6797092dea017058fb5f",
     "grade": false,
     "grade_id": "cell-5bb7238fdbeefd9a",
     "locked": true,
     "schema_version": 3,
     "solution": false,
     "task": false
    }
   },
   "source": [
    "Implement `filter_gauss(image, kernel_factor, sigma)` using `convolve_with_two`. The parameter `kernel_factor` defines the half size of the kernel relative to sigma (our rule of thumb from the lecture was to set this as 3)."
   ]
  },
  {
   "cell_type": "code",
   "execution_count": null,
   "metadata": {
    "deletable": false,
    "nbgrader": {
     "cell_type": "code",
     "checksum": "08668fc49fde7c2840f6a5616a189411",
     "grade": true,
     "grade_id": "cell-1981f61890f5181a",
     "locked": false,
     "points": 2,
     "schema_version": 3,
     "solution": true,
     "task": false
    }
   },
   "outputs": [],
   "source": [
    "# POINTS: 2\n",
    "\n",
    "def filter_gauss(image, kernel_factor, sigma):\n",
    "    # YOUR CODE HERE\n",
    "    raise NotImplementedError()"
   ]
  },
  {
   "cell_type": "markdown",
   "metadata": {
    "deletable": false,
    "editable": false,
    "nbgrader": {
     "cell_type": "markdown",
     "checksum": "5c34721f0ffc37de9afcb117de73fa58",
     "grade": false,
     "grade_id": "cell-d704e5f64a94cbf2",
     "locked": true,
     "schema_version": 3,
     "solution": false,
     "task": false
    }
   },
   "source": [
    "Plot the image and its blurred versions (with the box and the Gauss filter) along with their spectra using `plot_with_spectra()`. Vary the size of the box filter. What do you observe? For the Gaussian, change sigma.  What happens if you increase or decrease the `kernel_factor` compared to our rule-of-thumb value 3?"
   ]
  },
  {
   "cell_type": "code",
   "execution_count": null,
   "metadata": {
    "deletable": false,
    "editable": false,
    "nbgrader": {
     "cell_type": "code",
     "checksum": "3efa24081c22a48cb44b06dc2ec5f7db",
     "grade": false,
     "grade_id": "cell-1aa436d30ba3add8",
     "locked": true,
     "schema_version": 3,
     "solution": false,
     "task": false
    }
   },
   "outputs": [],
   "source": [
    "sigma = 3\n",
    "im = im_grass\n",
    "gauss_filtered = filter_gauss(im, kernel_factor=6, sigma=sigma)\n",
    "box_filtered = filter_box(im, sigma=sigma)\n",
    "plot_with_spectra(\n",
    "    [im, box_filtered, gauss_filtered], \n",
    "    ['Image', 'Box filtered', 'Gauss filtered'])"
   ]
  },
  {
   "cell_type": "markdown",
   "metadata": {
    "deletable": false,
    "editable": false,
    "nbgrader": {
     "cell_type": "markdown",
     "checksum": "e1eb49d6933233b5f07481eadee95f58",
     "grade": false,
     "grade_id": "cell-50f9fb9f41c5eb8b",
     "locked": true,
     "schema_version": 3,
     "solution": false,
     "task": false
    }
   },
   "source": [
    "## Sampling and aliasing\n",
    "\n",
    "Implement a function `sample_with_gaps(image, period)`, where `period` is an integer and defines the distance between two sampled points in pixels. The output should have the same size as `image` but have zeros everywhere except at the sampled points, where it should be equal to `image`. For example if `period=2` then every second row and every second column of the image should be zero in the output.\n",
    "\n",
    "In addition, implement `sample_without_gaps(image, period)`, which is like `sample_with_gaps` but the output does not contain gaps (rows and columns of zeros) and therefore the output size is smaller.\n",
    "\n",
    "Hint: These two functions can easily be realized with [Numpy indexing](https://numpy.org/doc/stable/reference/arrays.indexing.html). Do not use for-loop."
   ]
  },
  {
   "cell_type": "code",
   "execution_count": null,
   "metadata": {
    "deletable": false,
    "nbgrader": {
     "cell_type": "code",
     "checksum": "a08d71464895d592f839478c7709f3ed",
     "grade": true,
     "grade_id": "cell-f92f92bffc11138c",
     "locked": false,
     "points": 2,
     "schema_version": 3,
     "solution": true,
     "task": false
    }
   },
   "outputs": [],
   "source": [
    "# POINTS: 2\n",
    "\n",
    "def sample_with_gaps(im, period):\n",
    "    # YOUR CODE HERE\n",
    "    raise NotImplementedError()\n",
    "\n",
    "def sample_without_gaps(im, period):\n",
    "    # YOUR CODE HERE\n",
    "    raise NotImplementedError()"
   ]
  },
  {
   "cell_type": "markdown",
   "metadata": {
    "deletable": false,
    "editable": false,
    "nbgrader": {
     "cell_type": "markdown",
     "checksum": "c7f169ce1d63c86fe3981650c4deed2c",
     "grade": false,
     "grade_id": "cell-4143fa3401e2b32a",
     "locked": true,
     "schema_version": 3,
     "solution": false,
     "task": false
    }
   },
   "source": [
    "Sample the `im_zebras` image with a period of 2 pixels and plot the original and sampled images along with their spectra. \n",
    "What effect do you see in the resulting magnitude spectrum, when sampling with or without gaps?"
   ]
  },
  {
   "cell_type": "code",
   "execution_count": null,
   "metadata": {
    "deletable": false,
    "editable": false,
    "nbgrader": {
     "cell_type": "code",
     "checksum": "8d7ec32a6e8078043ad1bd8972a3ed45",
     "grade": false,
     "grade_id": "cell-6a29223ac622161a",
     "locked": true,
     "schema_version": 3,
     "solution": false,
     "task": false
    }
   },
   "outputs": [],
   "source": [
    "N=4\n",
    "im = im_zebras\n",
    "sampled_gaps = sample_with_gaps(im, N)\n",
    "sampled = sample_without_gaps(im, N)\n",
    "\n",
    "blurred = filter_gauss(im, kernel_factor=6, sigma=4)\n",
    "blurred_and_sampled_gaps = sample_with_gaps(blurred, N)\n",
    "blurred_and_sampled = sample_without_gaps(blurred, N)\n",
    "\n",
    "plot_with_spectra(\n",
    "    [im, sampled_gaps, sampled, blurred, blurred_and_sampled_gaps, blurred_and_sampled], \n",
    "    ['Original', 'Sampled (w/ gaps)', 'Sampled', 'Gauss blurred', 'Blurred and s. (w/ gaps)', 'Blurred and s.'])"
   ]
  },
  {
   "cell_type": "markdown",
   "metadata": {
    "deletable": false,
    "editable": false,
    "nbgrader": {
     "cell_type": "markdown",
     "checksum": "a86f5de7384201887fbca57d8fbb1d40",
     "grade": false,
     "grade_id": "cell-136813a8f3329a15",
     "locked": true,
     "schema_version": 3,
     "solution": false,
     "task": false
    }
   },
   "source": [
    "Consider the image `im_pattern` and sample it with a period of 4, 8 and 16 and plot the resulting spectra. What happens as you increase the sampling period?\n",
    "Now look at what happens when **Gaussian blurring** is applied before sampling, with different sigma values. Approximately what sigma do you need for avoiding artifacts when `period=16`?"
   ]
  },
  {
   "cell_type": "code",
   "execution_count": null,
   "metadata": {
    "deletable": false,
    "editable": false,
    "nbgrader": {
     "cell_type": "code",
     "checksum": "7f5e17cfef7531236efec777dbf64f8a",
     "grade": false,
     "grade_id": "cell-6b1b6c93e615cf8b",
     "locked": true,
     "schema_version": 3,
     "solution": false,
     "task": false
    }
   },
   "outputs": [],
   "source": [
    "N=16\n",
    "image = im_pattern\n",
    "downsampled_gaps = sample_with_gaps(im_pattern, N)\n",
    "downsampled = sample_without_gaps(im_pattern, N)\n",
    "\n",
    "blurred = filter_gauss(image, kernel_factor=6, sigma=12)\n",
    "blurred_and_downsampled_gaps = sample_with_gaps(blurred, N)\n",
    "blurred_and_downsampled = sample_without_gaps(blurred, N)\n",
    "\n",
    "plot_with_spectra(\n",
    "    [im_pattern, downsampled_gaps, downsampled, blurred, blurred_and_downsampled_gaps, blurred_and_downsampled], \n",
    "    ['Original', 'Downsampled (w/ gaps)', 'Downsampled (no gaps)', 'Gauss blurred', 'Blurred and ds. (w/ gaps)', 'Blurred and downs. (no gaps)'])"
   ]
  },
  {
   "cell_type": "markdown",
   "metadata": {
    "deletable": false,
    "editable": false,
    "nbgrader": {
     "cell_type": "markdown",
     "checksum": "c1215909e887e4f9d38aa72f7eca883e",
     "grade": false,
     "grade_id": "cell-a4bfb21a75007804",
     "locked": true,
     "schema_version": 3,
     "solution": false,
     "task": false
    }
   },
   "source": [
    "# Image derivatives\n",
    "This task introduces image derivative operators."
   ]
  },
  {
   "cell_type": "code",
   "execution_count": null,
   "metadata": {
    "deletable": false,
    "editable": false,
    "nbgrader": {
     "cell_type": "code",
     "checksum": "f99c31ea1cc69b1a42b5f087ac7d730a",
     "grade": false,
     "grade_id": "cell-1c7181be91873cb0",
     "locked": true,
     "schema_version": 3,
     "solution": false,
     "task": false
    }
   },
   "outputs": [],
   "source": [
    "# Some Convenience Functions.\n",
    "\n",
    "def convolve_with_two(image, kernel1, kernel2):\n",
    "    \"\"\"Apply two filters, one after the other.\"\"\"\n",
    "    image = ndimage.convolve(image, kernel1)\n",
    "    image = ndimage.convolve(image, kernel2)   \n",
    "    return image\n",
    "\n",
    "def imread_gray(filename):\n",
    "    \"\"\"Read grayscale image.\"\"\"\n",
    "    return cv2.imread(filename, cv2.IMREAD_GRAYSCALE).astype(np.float32)\n",
    "\n",
    "def plot_multiple(images, titles, colormap='gray', max_columns=np.inf, share_axes=True):\n",
    "    \"\"\"Plot multiple images as subplots on a grid.\"\"\"\n",
    "    assert len(images) == len(titles)\n",
    "    n_images = len(images)\n",
    "    n_cols = min(max_columns, n_images)\n",
    "    n_rows = int(np.ceil(n_images / n_cols))\n",
    "    fig, axes = plt.subplots(\n",
    "        n_rows, n_cols, figsize=(n_cols * 4, n_rows * 4),\n",
    "        squeeze=False, sharex=share_axes, sharey=share_axes)\n",
    "\n",
    "    axes = axes.flat\n",
    "    # Hide subplots without content\n",
    "    for ax in axes[n_images:]:\n",
    "        ax.axis('off')\n",
    "        \n",
    "    if not isinstance(colormap, (list,tuple)):\n",
    "        colormaps = [colormap]*n_images\n",
    "    else:\n",
    "        colormaps = colormap\n",
    "\n",
    "    for ax, image, title, cmap in zip(axes, images, titles, colormaps):\n",
    "        ax.imshow(image, cmap=cmap)\n",
    "        ax.set_title(title)\n",
    "        \n",
    "    fig.tight_layout()\n",
    "    \n",
    "def gauss(x, sigma):\n",
    "    return 1.0 / np.sqrt(2.0 * np.pi) / sigma * np.exp(- x**2 / 2.0 / sigma**2)"
   ]
  },
  {
   "cell_type": "markdown",
   "metadata": {
    "deletable": false,
    "editable": false,
    "nbgrader": {
     "cell_type": "markdown",
     "checksum": "49449ad6fe045b150ebbf01b29d62533",
     "grade": false,
     "grade_id": "cell-39746e8f4f9b43e4",
     "locked": true,
     "schema_version": 3,
     "solution": false,
     "task": false
    }
   },
   "source": [
    "Implement a function for creating a Gaussian derivative filter in 1D according to the following equation\n",
    "\\begin{eqnarray}\n",
    "    \\frac{d}{dx} G &=& \\frac{d}{dx} \\frac{1}{\\sqrt{2\\pi}\\sigma} \\operatorname{exp}\\biggl(-\\frac{x^2}{2\\sigma^2}\\biggr) \\\\\n",
    "\t\t\t       &=& -\\frac{1}{\\sqrt{2\\pi}\\sigma^3}x \\operatorname{exp}\\biggl(-\\frac{x^2}{2\\sigma^2}\\biggr)\n",
    "\\end{eqnarray}\n",
    "Your function should take a vector of integer values $x$ and the standard deviation ``sigma`` as arguments."
   ]
  },
  {
   "cell_type": "code",
   "execution_count": null,
   "metadata": {
    "deletable": false,
    "nbgrader": {
     "cell_type": "code",
     "checksum": "ec4ef2ee337d63da884f5caf8f20ca29",
     "grade": true,
     "grade_id": "cell-71bddd28f48b6637",
     "locked": false,
     "points": 1,
     "schema_version": 3,
     "solution": true,
     "task": false
    }
   },
   "outputs": [],
   "source": [
    "# POINTS: 1\n",
    "\n",
    "def gaussdx(x, sigma):\n",
    "    # YOUR CODE HERE\n",
    "    raise NotImplementedError()"
   ]
  },
  {
   "cell_type": "code",
   "execution_count": null,
   "metadata": {
    "deletable": false,
    "editable": false,
    "nbgrader": {
     "cell_type": "code",
     "checksum": "4113eae06fbdbc9cd044348f31ae7be9",
     "grade": false,
     "grade_id": "cell-1379d1cd8df1c39e",
     "locked": true,
     "schema_version": 3,
     "solution": false,
     "task": false
    }
   },
   "outputs": [],
   "source": [
    "x = np.linspace(-5, 5, 100)\n",
    "y = gaussdx(x, sigma=1.0)\n",
    "fig, ax = plt.subplots()\n",
    "ax.plot(x, y)\n",
    "fig.tight_layout()"
   ]
  },
  {
   "cell_type": "markdown",
   "metadata": {
    "deletable": false,
    "editable": false,
    "nbgrader": {
     "cell_type": "markdown",
     "checksum": "5439b304418fd2c5e3c73301d2874128",
     "grade": false,
     "grade_id": "cell-34bf4276c1d51139",
     "locked": true,
     "schema_version": 3,
     "solution": false,
     "task": false
    }
   },
   "source": [
    "The effect of a filter can be studied by observing its so-called *impulse response*.\n",
    "For this, create a test image in which only the central pixel has a non-zero value (called an *impulse*)."
   ]
  },
  {
   "cell_type": "code",
   "execution_count": null,
   "metadata": {
    "deletable": false,
    "nbgrader": {
     "cell_type": "code",
     "checksum": "61f7a63e383599f45843f3732e9f576b",
     "grade": true,
     "grade_id": "cell-d7885b56a66a5a1c",
     "locked": false,
     "points": 1,
     "schema_version": 3,
     "solution": true,
     "task": false
    }
   },
   "outputs": [],
   "source": [
    "# POINTS: 1\n",
    "\n",
    "def make_impulse_image(size=25):\n",
    "    # YOUR CODE HERE\n",
    "    raise NotImplementedError()\n",
    "    return impulse"
   ]
  },
  {
   "cell_type": "markdown",
   "metadata": {
    "deletable": false,
    "editable": false,
    "nbgrader": {
     "cell_type": "markdown",
     "checksum": "d31c2155df90ca44ee92848b7076aff9",
     "grade": false,
     "grade_id": "cell-ad35bac451f70fc8",
     "locked": true,
     "schema_version": 3,
     "solution": false,
     "task": false
    }
   },
   "source": [
    "What happens when you apply the following filter combinations on the impulse image?\n",
    "\n",
    "- first ``gaussian``, then ``gaussian^T``.\n",
    "- first ``gaussian``, then ``derivative^T``.\n",
    "- first ``derivative``, then ``gaussian^T``.\n",
    "- first ``gaussian^T``, then ``derivative``.\n",
    "- first ``derivative^T``, then ``gaussian``.\n",
    "\n",
    "Display the result images with the `plot_multiple` function. Describe your result."
   ]
  },
  {
   "cell_type": "code",
   "execution_count": null,
   "metadata": {
    "deletable": false,
    "editable": false,
    "nbgrader": {
     "cell_type": "code",
     "checksum": "02513d918312fec8bdc5b1c1a7327f96",
     "grade": false,
     "grade_id": "cell-77a0db55a8d16303",
     "locked": true,
     "schema_version": 3,
     "solution": false,
     "task": false
    }
   },
   "outputs": [],
   "source": [
    "# create kernels\n",
    "sigma = 6.0\n",
    "kernel_radius = int(3.0 * sigma)\n",
    "x = np.arange(-kernel_radius, kernel_radius + 1)[np.newaxis]\n",
    "G = gauss(x, sigma)\n",
    "D = gaussdx(x, sigma)\n",
    "\n",
    "impulse = make_impulse_image()\n",
    "images = [\n",
    "    impulse,\n",
    "    convolve_with_two(impulse, G, G.T),\n",
    "    convolve_with_two(impulse, G, D.T),\n",
    "    convolve_with_two(impulse, D, G.T),\n",
    "    convolve_with_two(impulse, G.T, D),\n",
    "    convolve_with_two(impulse, D.T, G)]\n",
    "\n",
    "titles = [\n",
    "    'original',\n",
    "    'first G, then G^T',\n",
    "    'first G, then D^T',\n",
    "    'first D, then G^T',\n",
    "    'first G^T, then D',\n",
    "    'first D^T, then G']\n",
    "\n",
    "plot_multiple(images, titles, max_columns=3)"
   ]
  },
  {
   "cell_type": "markdown",
   "metadata": {
    "deletable": false,
    "editable": false,
    "nbgrader": {
     "cell_type": "markdown",
     "checksum": "78a5832a482d64a0a09a6ab24536b0e5",
     "grade": false,
     "grade_id": "cell-7f8518184518d54c",
     "locked": true,
     "schema_version": 3,
     "solution": false,
     "task": false
    }
   },
   "source": [
    "Create a new function ``gaussderiv`` using the functions ``gauss`` and ``gaussdx`` directly.\n",
    "The new function should return the 2D Gaussian derivatives of an input image in $x$ and $y$ direction.\n",
    "Try the function on the given example images."
   ]
  },
  {
   "cell_type": "code",
   "execution_count": null,
   "metadata": {
    "deletable": false,
    "nbgrader": {
     "cell_type": "code",
     "checksum": "2989fa368b55fbb422a204311065fec9",
     "grade": true,
     "grade_id": "cell-c1dbe176a9830345",
     "locked": false,
     "points": 2,
     "schema_version": 3,
     "solution": true,
     "task": false
    }
   },
   "outputs": [],
   "source": [
    "# POINTS: 2\n",
    "\n",
    "def gauss_derivs(image, sigma):\n",
    "    kernel_radius = int(3.0 * sigma)\n",
    "    # YOUR CODE HERE\n",
    "    raise NotImplementedError()\n",
    "    return image_dx, image_dy"
   ]
  },
  {
   "cell_type": "code",
   "execution_count": null,
   "metadata": {
    "deletable": false,
    "editable": false,
    "nbgrader": {
     "cell_type": "code",
     "checksum": "69fdbbe7f37da1ccef7752770f2e21b8",
     "grade": false,
     "grade_id": "cell-6fe45fcf6e12d64a",
     "locked": true,
     "schema_version": 3,
     "solution": false,
     "task": false
    }
   },
   "outputs": [],
   "source": [
    "image = imread_gray('tomatoes.png')\n",
    "grad_dx, grad_dy = gauss_derivs(image, sigma=5.0)\n",
    "plot_multiple([image, grad_dx, grad_dy], ['Image', 'Derivative in x-direction', 'Derivative in y-direction'])"
   ]
  },
  {
   "cell_type": "markdown",
   "metadata": {
    "deletable": false,
    "editable": false,
    "nbgrader": {
     "cell_type": "markdown",
     "checksum": "7f99fe94c98ec25663e0abb82270dd7c",
     "grade": false,
     "grade_id": "cell-da7b0c6b2b37e752",
     "locked": true,
     "schema_version": 3,
     "solution": false,
     "task": false
    }
   },
   "source": [
    "In a similar manner, create a new function ``gauss_second_derivs`` that returns the 2D second Gaussian derivatives $\\frac{d^2}{dx^2}$, $\\frac{d^2}{dx dy}$ and $\\frac{d^2}{dy^2}$ of an input image.\n",
    "Try the function on the given example images."
   ]
  },
  {
   "cell_type": "code",
   "execution_count": null,
   "metadata": {
    "deletable": false,
    "nbgrader": {
     "cell_type": "code",
     "checksum": "0599a706bb81dc956840218ccb4e1258",
     "grade": true,
     "grade_id": "cell-fca3722dfbb99335",
     "locked": false,
     "points": 2,
     "schema_version": 3,
     "solution": true,
     "task": false
    }
   },
   "outputs": [],
   "source": [
    "# POINTS: 2\n",
    "\n",
    "def gauss_second_derivs(image, sigma):\n",
    "    kernel_radius = int(3.0 * sigma)\n",
    "    # YOUR CODE HERE\n",
    "    raise NotImplementedError()\n",
    "    \n",
    "    return image_dxx, image_dxy, image_dyy"
   ]
  },
  {
   "cell_type": "code",
   "execution_count": null,
   "metadata": {
    "deletable": false,
    "editable": false,
    "nbgrader": {
     "cell_type": "code",
     "checksum": "2a4f069c9a3f14e059be6895ef6aa31f",
     "grade": false,
     "grade_id": "cell-be82eed8ce4f65e7",
     "locked": true,
     "schema_version": 3,
     "solution": false,
     "task": false
    }
   },
   "outputs": [],
   "source": [
    "image = imread_gray('coins1.jpg')\n",
    "grad_dxx, grad_dxy, grad_dyy = gauss_second_derivs(image, sigma=2.0)\n",
    "plot_multiple([image, grad_dxx, grad_dxy, grad_dyy], ['Image', 'Dxx', 'Dxy','Dyy'])"
   ]
  },
  {
   "cell_type": "code",
   "execution_count": null,
   "metadata": {
    "deletable": false,
    "editable": false,
    "nbgrader": {
     "cell_type": "code",
     "checksum": "aa724de65fa92923660072e57549de42",
     "grade": false,
     "grade_id": "cell-0373b64aef70468d",
     "locked": true,
     "schema_version": 3,
     "solution": false,
     "task": false
    }
   },
   "outputs": [],
   "source": [
    "image = imread_gray('circuit.png')\n",
    "grad_dxx, grad_dxy, grad_dyy = gauss_second_derivs(image, sigma=2.0)\n",
    "plot_multiple([image, grad_dxx, grad_dxy, grad_dyy], ['Image', 'Dxx', 'Dxy','Dyy'])"
   ]
  },
  {
   "cell_type": "markdown",
   "metadata": {
    "deletable": false,
    "editable": false,
    "nbgrader": {
     "cell_type": "markdown",
     "checksum": "79cf6bb3a2de41f85b8747f3fa5cb3f4",
     "grade": false,
     "grade_id": "cell-0f5dcc0ab061ce88",
     "locked": true,
     "schema_version": 3,
     "solution": false,
     "task": false
    }
   },
   "source": [
    "Create a new function ``image_gradients_polar`` that returns two images with the magnitude and orientation of the gradient for each pixel of the input image. Try the function on the given example images."
   ]
  },
  {
   "cell_type": "code",
   "execution_count": null,
   "metadata": {
    "deletable": false,
    "nbgrader": {
     "cell_type": "code",
     "checksum": "7448d5ff5f9c2cc75d83766f4875cf68",
     "grade": true,
     "grade_id": "cell-8a07e53b0fe692ef",
     "locked": false,
     "points": 2,
     "schema_version": 3,
     "solution": true,
     "task": false
    }
   },
   "outputs": [],
   "source": [
    "# POINTS: 2\n",
    "\n",
    "def image_gradients_polar(image, sigma):\n",
    "    # YOUR CODE HERE\n",
    "    raise NotImplementedError()\n",
    "    return magnitude, direction"
   ]
  },
  {
   "cell_type": "code",
   "execution_count": null,
   "metadata": {
    "deletable": false,
    "editable": false,
    "nbgrader": {
     "cell_type": "code",
     "checksum": "73f664b1d45112646e859513af3d29f1",
     "grade": false,
     "grade_id": "cell-ad307dea6bdf344c",
     "locked": true,
     "schema_version": 3,
     "solution": false,
     "task": false
    }
   },
   "outputs": [],
   "source": [
    "image = imread_gray('coins1.jpg')\n",
    "grad_mag, grad_dir = image_gradients_polar(image, sigma=2.0)\n",
    "\n",
    "# Note: the twilight colormap only works since Matplotlib 3.0, use 'gray' in earlier versions.\n",
    "plot_multiple([image, grad_mag, grad_dir], ['Image', 'Magnitude', 'Direction'], colormap=['gray', 'gray', 'twilight']) "
   ]
  },
  {
   "cell_type": "code",
   "execution_count": null,
   "metadata": {
    "deletable": false,
    "editable": false,
    "nbgrader": {
     "cell_type": "code",
     "checksum": "d799fce53febe57203a780742aac2dc6",
     "grade": false,
     "grade_id": "cell-12e886a64c8182ea",
     "locked": true,
     "schema_version": 3,
     "solution": false,
     "task": false
    }
   },
   "outputs": [],
   "source": [
    "image = imread_gray('circuit.png')\n",
    "grad_mag, grad_theta = image_gradients_polar(image, sigma=2.0)\n",
    "plot_multiple([image, grad_mag, grad_theta], ['Image', 'Magnitude', 'Direction'], colormap=['gray', 'gray', 'twilight'])"
   ]
  },
  {
   "cell_type": "markdown",
   "metadata": {
    "deletable": false,
    "editable": false,
    "nbgrader": {
     "cell_type": "markdown",
     "checksum": "f1a1686c753789b0ae57d36f563ddf1d",
     "grade": false,
     "grade_id": "cell-a8c41842a29b1a10",
     "locked": true,
     "schema_version": 3,
     "solution": false,
     "task": false
    }
   },
   "source": [
    "Create a new function ``laplace`` that returns an image with the Laplacian-of-Gaussian for each pixel of the input image.\n",
    "Try the function on the given example images"
   ]
  },
  {
   "cell_type": "code",
   "execution_count": null,
   "metadata": {
    "deletable": false,
    "nbgrader": {
     "cell_type": "code",
     "checksum": "6e5f1ad4dd953fcff4adc56b59d39500",
     "grade": true,
     "grade_id": "cell-9cc2af0d4458b852",
     "locked": false,
     "points": 2,
     "schema_version": 3,
     "solution": true,
     "task": false
    }
   },
   "outputs": [],
   "source": [
    "# POINTS: 2\n",
    "\n",
    "def laplace(image, sigma):\n",
    "    # YOUR CODE HERE\n",
    "    raise NotImplementedError()"
   ]
  },
  {
   "cell_type": "code",
   "execution_count": null,
   "metadata": {
    "deletable": false,
    "editable": false,
    "nbgrader": {
     "cell_type": "code",
     "checksum": "b4b1be585598ee7214d3fbacb0cb6260",
     "grade": false,
     "grade_id": "cell-3b5f255c2c0514be",
     "locked": true,
     "schema_version": 3,
     "solution": false,
     "task": false
    }
   },
   "outputs": [],
   "source": [
    "image = imread_gray('coins1.jpg')\n",
    "lap = laplace(image, sigma=2.0)\n",
    "plot_multiple([image, lap], ['Image', 'Laplace'])"
   ]
  },
  {
   "cell_type": "code",
   "execution_count": null,
   "metadata": {
    "deletable": false,
    "editable": false,
    "nbgrader": {
     "cell_type": "code",
     "checksum": "a7e9826fb5f07ff5e07753e3bfdfbef0",
     "grade": false,
     "grade_id": "cell-7a60badcc5c219f5",
     "locked": true,
     "schema_version": 3,
     "solution": false,
     "task": false
    }
   },
   "outputs": [],
   "source": [
    "image = imread_gray('circuit.png')\n",
    "lap = laplace(image, sigma=2.0)\n",
    "plot_multiple([image, lap], ['Image', 'Laplace'])"
   ]
  },
  {
   "cell_type": "markdown",
   "metadata": {
    "deletable": false,
    "editable": false,
    "nbgrader": {
     "cell_type": "markdown",
     "checksum": "c22301fa4417b6c56c2404dfb1538211",
     "grade": false,
     "grade_id": "cell-b3e2563c16cf27fa",
     "locked": true,
     "schema_version": 3,
     "solution": false,
     "task": false
    }
   },
   "source": [
    "# Edge detection\n",
    "In this part we will create a simple edge detector. \n",
    "\n",
    "**Note:** you will need `gauss_derivs` and `image_gradients_polar` functions from the task \"Image derivatives\". "
   ]
  },
  {
   "cell_type": "code",
   "execution_count": null,
   "metadata": {
    "deletable": false,
    "editable": false,
    "nbgrader": {
     "cell_type": "code",
     "checksum": "a1796d0ca449226928f6fb30f0f7f681",
     "grade": false,
     "grade_id": "cell-cabb22b059dab5b6",
     "locked": true,
     "schema_version": 3,
     "solution": false,
     "task": false
    }
   },
   "outputs": [],
   "source": [
    "# Some convenience functions.\n",
    "\n",
    "def convolve_with_two(image, kernel1, kernel2):\n",
    "    \"\"\"Apply two filters, one after the other.\"\"\"\n",
    "    image = ndimage.convolve(image, kernel1)\n",
    "    image = ndimage.convolve(image, kernel2)   \n",
    "    return image\n",
    "\n",
    "def plot_multiple(images, titles, colormap='gray', max_columns=np.inf, imsize=4, share_axes=True):\n",
    "    \"\"\"Plot multiple images as subplots on a grid.\"\"\"\n",
    "    assert len(images) == len(titles)\n",
    "    n_images = len(images)\n",
    "    n_cols = min(max_columns, n_images)\n",
    "    n_rows = int(np.ceil(n_images / n_cols))\n",
    "    fig, axes = plt.subplots(\n",
    "        n_rows, n_cols, figsize=(n_cols * imsize, n_rows * imsize),\n",
    "        squeeze=False, sharex=share_axes, sharey=share_axes)\n",
    "\n",
    "    axes = axes.flat\n",
    "    # Hide subplots without content\n",
    "    for ax in axes[n_images:]:\n",
    "        ax.axis('off')\n",
    "        \n",
    "    if not isinstance(colormap, (list,tuple)):\n",
    "        colormaps = [colormap]*n_images\n",
    "    else:\n",
    "        colormaps = colormap\n",
    "\n",
    "    for ax, image, title, cmap in zip(axes, images, titles, colormaps):\n",
    "        ax.imshow(image, cmap=cmap)\n",
    "        ax.set_title(title)\n",
    "        \n",
    "    fig.tight_layout()"
   ]
  },
  {
   "cell_type": "markdown",
   "metadata": {
    "deletable": false,
    "editable": false,
    "nbgrader": {
     "cell_type": "markdown",
     "checksum": "965392cefe95b9a76c95881cb79bf401",
     "grade": false,
     "grade_id": "cell-2ea92cf0cfae0e48",
     "locked": true,
     "schema_version": 3,
     "solution": false,
     "task": false
    }
   },
   "source": [
    "Write a function ``get_edges`` that returns a binary image ``edge`` from an input image where the color of each pixel $p$ is selected as follows (for a given threshold ``theta``):\n",
    "\\begin{eqnarray}\n",
    "    p &=&\n",
    "    \\begin{cases}\n",
    "        1, &\\text{ if }\\left|\\operatorname{grad}(\\mathtt{img})\\right|(p) \\geq \\theta\\\\\n",
    "        0, &\\text{ else}\n",
    "    \\end{cases}\n",
    "\\end{eqnarray}\n",
    "Experiment with the function ``get_edges`` on the example images.\n",
    "Try to get good edge images for different values of ``sigma``.\n",
    "What difficulties do you observe when selecting ``sigma`` and ``theta``?"
   ]
  },
  {
   "cell_type": "code",
   "execution_count": null,
   "metadata": {
    "deletable": false,
    "nbgrader": {
     "cell_type": "code",
     "checksum": "ef2bb80cab235206399c1852f4597014",
     "grade": true,
     "grade_id": "cell-95fbcbccfc0fc900",
     "locked": false,
     "points": 1,
     "schema_version": 3,
     "solution": true
    }
   },
   "outputs": [],
   "source": [
    "# POINTS: 1\n",
    "\n",
    "def get_edges(image, sigma, theta):\n",
    "    # YOUR CODE HERE\n",
    "    raise NotImplementedError()"
   ]
  },
  {
   "cell_type": "code",
   "execution_count": null,
   "metadata": {
    "deletable": false,
    "editable": false,
    "nbgrader": {
     "cell_type": "code",
     "checksum": "bddec55593a892b9956ad857436a6a82",
     "grade": false,
     "grade_id": "cell-d070956bd54e5d5e",
     "locked": true,
     "schema_version": 3,
     "solution": false,
     "task": false
    }
   },
   "outputs": [],
   "source": [
    "color_im = imageio.imread('gantrycrane.png')\n",
    "gray_im = cv2.cvtColor(color_im, cv2.COLOR_RGB2GRAY).astype(np.float32)\n",
    "plot_multiple([gray_im], ['Image'])\n",
    "\n",
    "sigmas = [1, 2]\n",
    "thetas = [1, 2, 5, 10, 20, 40, 60]\n",
    "\n",
    "images = []\n",
    "titles = []\n",
    "for sigma in sigmas:\n",
    "    for theta in thetas:\n",
    "        edges = get_edges(gray_im, sigma, theta)    \n",
    "        images.append(edges)\n",
    "        titles.append(f'sigma={sigma}, theta={theta}')\n",
    "\n",
    "plot_multiple(images, titles, max_columns=7, imsize=2)"
   ]
  },
  {
   "cell_type": "markdown",
   "metadata": {
    "deletable": false,
    "editable": false,
    "nbgrader": {
     "cell_type": "markdown",
     "checksum": "fea894a5e07cc3383cd00ce7d694debd",
     "grade": false,
     "grade_id": "cell-ab02a80995f9c982",
     "locked": true,
     "schema_version": 3,
     "solution": false,
     "task": false
    }
   },
   "source": [
    "Using the above function, returned edges are still several pixels wide.\n",
    "In practice, this is often not desired.\n",
    "Create a function ``get_edges_with_nms`` that extends ``get_edges`` by using the following function to suppress non-maximum points along the gradient direction.\n",
    "\n",
    "Note that this simplified code does not interpolate between the neighboring pixel values in order to look up the real magnitude samples along the gradient direction.\n",
    "This interpolation is crucial to obtain the necessary robustness for an actual implementation.\n",
    "Here it was left out for better readability, since the interpolation involves some extra effort in order to deal with all special cases (e.g. exactly horizontal or vertical gradients).\n",
    "If you feel motivated, you can try to add this step to make the function more robust."
   ]
  },
  {
   "cell_type": "code",
   "execution_count": null,
   "metadata": {
    "deletable": false,
    "nbgrader": {
     "cell_type": "code",
     "checksum": "fb8204fb9329dbd9dcd9d8642449b8a6",
     "grade": true,
     "grade_id": "cell-965edb7fde929842",
     "locked": false,
     "points": 4,
     "schema_version": 3,
     "solution": true
    }
   },
   "outputs": [],
   "source": [
    "# POINTS: 4\n",
    "\n",
    "def nms_for_canny(grad_mag, grad_dir):\n",
    "    result = np.zeros_like(grad_mag)\n",
    "        \n",
    "    # Pre-define pixel index offset along different orientation\n",
    "    offsets_x = [-1, -1, 0, 1, 1, 1, 0, -1, -1]\n",
    "    offsets_y = [0, -1, -1, -1, 0, 1, 1, 1, 0]\n",
    "    height, width = grad_mag.shape\n",
    "    for y in range(1, height-1):\n",
    "        for x in range(1, width-1):\n",
    "            \n",
    "            # YOUR CODE HERE\n",
    "            raise NotImplementedError()\n",
    "    \n",
    "    return result"
   ]
  },
  {
   "cell_type": "markdown",
   "metadata": {
    "deletable": false,
    "editable": false,
    "nbgrader": {
     "cell_type": "markdown",
     "checksum": "f1bc1f1b5d85e0866b469dd300cf69e1",
     "grade": false,
     "grade_id": "cell-ac06d7d2d7e2a14a",
     "locked": true,
     "schema_version": 3,
     "solution": false,
     "task": false
    }
   },
   "source": [
    "Another problem is that suitable values for ``theta`` may vary substantially between images.\n",
    "Extend the function ``get_edges_with_nms`` such that the threshold $\\theta \\in [0,1]$ is defined relative to the maximal gradient magnitude value in the image."
   ]
  },
  {
   "cell_type": "code",
   "execution_count": null,
   "metadata": {
    "deletable": false,
    "nbgrader": {
     "cell_type": "code",
     "checksum": "a91c4265e8b4ebf60b933e318c745d3e",
     "grade": true,
     "grade_id": "cell-1b4393e5c8f86359",
     "locked": false,
     "points": 1,
     "schema_version": 3,
     "solution": true
    }
   },
   "outputs": [],
   "source": [
    "# POINTS: 1\n",
    "\n",
    "def get_edges_with_nms(image, sigma, theta):\n",
    "    # YOUR CODE HERE\n",
    "    raise NotImplementedError()"
   ]
  },
  {
   "cell_type": "code",
   "execution_count": null,
   "metadata": {
    "deletable": false,
    "editable": false,
    "nbgrader": {
     "cell_type": "code",
     "checksum": "4efbf00017eaceddaafce97d3a06961d",
     "grade": false,
     "grade_id": "cell-f5e1b6aadc2c43ab",
     "locked": true,
     "schema_version": 3,
     "solution": false,
     "task": false
    }
   },
   "outputs": [],
   "source": [
    "edges1 = get_edges(gray_im, sigma=2, theta=5)\n",
    "edges2 = get_edges_with_nms(gray_im, sigma=2, theta=0.17) # 0.17 corresponds to an absolute threshold of 5\n",
    "\n",
    "plot_multiple([edges1, edges2], ['get_edges', 'get_edges_with_nms'], imsize=6)"
   ]
  },
  {
   "cell_type": "markdown",
   "metadata": {
    "deletable": false,
    "editable": false,
    "nbgrader": {
     "cell_type": "markdown",
     "checksum": "2ab7884326f4aebcc5b60aad2d26defe",
     "grade": false,
     "grade_id": "cell-7cd40ea6cb6e4c80",
     "locked": true,
     "schema_version": 3,
     "solution": false,
     "task": false
    }
   },
   "source": [
    "The function ``get_edges`` you implemented is a simplified version of the Canny edge detection pipeline.\n",
    "The main step that is still missing is the edge following with hysteresis thresholding.\n",
    "The idea here is that instead of applying a single threshold over the entire image, the edge detector works with two different thresholds ``theta_high`` and ``theta_low``.\n",
    "It starts with an edge pixel with a value above ``theta_high`` and then follows the contour in the direction orthogonal to the gradient until the pixel value falls below ``theta_low``.\n",
    "Each pixel visited along the way is labeled as an edge.\n",
    "The procedure is repeated until no further pixel above ``theta_high`` remains.\n",
    "\n",
    "Try writing a function ``my_canny`` that implements this procedure.\n",
    "Don't worry about efficiency for the moment.\n",
    "You may use the provided function skeleton to help you get started but can also start from scratch. The following hints may help you:\n",
    "- You can create a boolean array ``visited`` for already visited and yet-to-visit image pixels. Since we are not interested in pixels below the low threshold you can mark them as visited. In another boolean array you can flag the pixels that serve as starting points for line following.\n",
    "- You can also avoid having to deal with special cases along the image borders by creating a 1-pixel boundary where the ``visited`` flag is set to ``true``.\n",
    "- The actual edge following part is most easily implemented as a recursive procedure. In most cases, you will have the option to choose between several possible continuation points. Again, the easiest way is to try all of them in sequence (or even all 8 neighbors) and let the recursive procedure (together with the ``visited`` flags) do the rest."
   ]
  },
  {
   "cell_type": "code",
   "execution_count": null,
   "metadata": {
    "deletable": false,
    "nbgrader": {
     "cell_type": "code",
     "checksum": "5615c8a1d3bfbfee52c697bb59647b6e",
     "grade": true,
     "grade_id": "cell-3ad713f1d3f174ac",
     "locked": false,
     "points": 5,
     "schema_version": 3,
     "solution": true
    }
   },
   "outputs": [],
   "source": [
    "# POINTS: 5\n",
    "\n",
    "def my_canny(image, sigma, theta_low, theta_high):\n",
    "    # Compute gradient, apply non-maximum suppression\n",
    "    # YOUR CODE HERE\n",
    "    raise NotImplementedError()\n",
    "    \n",
    "    # Compute absolute threshold relative to max value\n",
    "    max_val = np.max(grad_mag)\n",
    "    theta_low_abs = theta_low * max_val\n",
    "    theta_high_abs = theta_high * max_val\n",
    "    \n",
    "    # Initialize flags\n",
    "    # Declare all pixels below the low threshold as visited\n",
    "    # so edges are not followed there\n",
    "    visited = grad_mag < theta_low_abs  \n",
    "    \n",
    "    # Mark boundary pixels as visited\n",
    "    visited[:, 0] = 1\n",
    "    visited[:, -1] = 1\n",
    "    visited[0, :] = 1\n",
    "    visited[-1, :] = 1\n",
    " \n",
    "    # Output image\n",
    "    image_out = np.zeros_like(image)\n",
    "    \n",
    "    def follow_edge(x, y):\n",
    "        visited[y, x] = True\n",
    "        image_out[y, x] = 255\n",
    "        \n",
    "        # Pre-define pixel index offset along different orientation\n",
    "        offsets_x = [-1, -1, 0, 1, 1, 1, 0, -1]\n",
    "        offsets_y = [0, -1, -1, -1, 0, 1, 1, 1]           \n",
    "    \n",
    "        for ox, oy in zip(offsets_x, offsets_y):\n",
    "            # Note: `visited` is already False for points\n",
    "            # below the low threshold.\n",
    "            \n",
    "            # YOUR CODE HERE\n",
    "            raise NotImplementedError()\n",
    "            \n",
    "\n",
    "    is_high = grad_mag >= theta_high_abs\n",
    "    # Main loop\n",
    "    for x in range(image.shape[1]):\n",
    "        for y in range(image.shape[0]):\n",
    "            # YOUR CODE HERE\n",
    "            raise NotImplementedError()\n",
    "                \n",
    "    return image_out                "
   ]
  },
  {
   "cell_type": "markdown",
   "metadata": {
    "deletable": false,
    "editable": false,
    "nbgrader": {
     "cell_type": "markdown",
     "checksum": "6a486a36f269fcc3da04f1a11b1cec9a",
     "grade": false,
     "grade_id": "cell-b55b3242045db9da",
     "locked": true,
     "schema_version": 3,
     "solution": false,
     "task": false
    }
   },
   "source": [
    "OpenCV provides a built-in function that implements the Canny edge detector.\n",
    "https://docs.opencv.org/3.4/da/d5c/tutorial_canny_detector.html\n",
    "Try ``cv2.Canny`` on the provided example images and compare the results to those of your implementation.\n",
    "Note: the implementation of ``cv2.Canny`` does not include blurring the image as we did.\n",
    "So apply ``cv2.GaussianBlur`` on the image, before passing it to ``cv2.Canny``."
   ]
  },
  {
   "cell_type": "code",
   "execution_count": null,
   "metadata": {
    "deletable": false,
    "editable": false,
    "nbgrader": {
     "cell_type": "code",
     "checksum": "5bb6ebff561ad45332ef771ea8217704",
     "grade": false,
     "grade_id": "cell-b9b3bf2a1933c1c2",
     "locked": true,
     "schema_version": 3,
     "solution": false,
     "task": false
    }
   },
   "outputs": [],
   "source": [
    "edge_canny = my_canny(gray_im, sigma=2, theta_low=0.1, theta_high=0.3)\n",
    "\n",
    "blurred_cv = cv2.GaussianBlur(gray_im, ksize=(7,7), sigmaX=2)\n",
    "edge_canny_cv = cv2.Canny(\n",
    "    blurred_cv.astype(np.uint8), \n",
    "    39, 72, L2gradient=True).astype(np.float32)\n",
    "\n",
    "plot_multiple([edge_canny, edge_canny_cv, edge_canny-edge_canny_cv], \n",
    "              ['my_canny', 'cv2.Canny', 'Difference'], imsize=5)"
   ]
  },
  {
   "cell_type": "markdown",
   "metadata": {
    "deletable": false,
    "editable": false,
    "nbgrader": {
     "cell_type": "markdown",
     "checksum": "7ba0f31c6ef38ee3a534d7f1da3f2c5f",
     "grade": false,
     "grade_id": "cell-87f269175d23ffe8",
     "locked": true,
     "schema_version": 3,
     "solution": false,
     "task": false
    }
   },
   "source": [
    "## [OPTIONAL] Improved edge detector\n",
    "This solution gives better results, but its results still depend strongly on the maximal gradient magnitude value in the image.\n",
    "For a cleaner solution, we want to adapt the threshold to the distribution of all gradient magnitude values, such that we can directly control the number of edge pixels we get.\n",
    "Extend the function `get_edges` by the following steps in order to do this:\n",
    "\n",
    "- Perform non-maximum suppression on the gradient magnitude image as shown above.\n",
    "- Transform the result image into a vector.\n",
    "- Build a histogram of the remaining gradient magnitude values.\n",
    "- Compute the cumulative sum over the histogram (except for the first cell).\n",
    "- The last cell of the cumulative histogram now contains the total number of edge pixels in the image, `num_total_edge_pixels`. Compute the desired number of edge pixels `num_desired_edge_pixels` as the percentage `theta` of `num_total_edge_pixels`.\n",
    "- Find the threshold for which the cumulative histogram contains the value `num_desired_edge_pixels`."
   ]
  },
  {
   "cell_type": "code",
   "execution_count": null,
   "metadata": {
    "deletable": false,
    "nbgrader": {
     "cell_type": "code",
     "checksum": "2645afa6cd0f44df6842a328481f2657",
     "grade": true,
     "grade_id": "cell-3dfd1f9031772205",
     "locked": false,
     "points": 0,
     "schema_version": 3,
     "solution": true,
     "task": false
    }
   },
   "outputs": [],
   "source": [
    "# YOUR CODE HERE\n",
    "raise NotImplementedError()"
   ]
  },
  {
   "cell_type": "markdown",
   "metadata": {},
   "source": [
    "# Hough transform\n",
    "\n",
    "In this task, we will implement a Hough transform in order to detect parametric curves, such as lines or circles.\n",
    "In the following, we shortly review the motivation for this technique.\n",
    "\n",
    "Consider the point $p=(\\mathtt{x},\\mathtt{y})$ and the equation for a line $y = mx+c$. What are the lines that could pass through $p$?\n",
    "The answer is simple: all the lines for which $m$ and $c$ satisfy $\\mathtt{y} = m\\mathtt{x}+c$.\n",
    "Regarding $(\\mathtt{x},\\mathtt{y})$ as fixed, the last equation is that of a line in $(m,c)$-space.\n",
    "Repeating this reasoning, a second point $p'=(\\mathtt{x}',\\mathtt{y}')$ will also have an associated line in parameter space, and the two lines will intersect at the point $(\\tilde{m},\\tilde{c})$, which corresponds to the line connecting $p$ and $p'$.\n",
    "\n",
    "In order to find lines in the input image, we can thus pursue the following approach.\n",
    "We start with an empty accumulator array quantizing the parameter space for $m$ and $c$.\n",
    "For each edge pixel in the input image, we then draw a line in the accumulator array and increment the corresponding cells.\n",
    "Edge pixels on the same line in the input image will produce intersecting lines in $(m,c)$-space and will thus reinforce the intersection point.\n",
    "Maxima in this array thus correspond to lines in the input image that many edge pixels agree on.\n",
    "\n",
    "In practice, the parametrization in terms of $m$ and $c$ is problematic, since the slope $m$ may become infinite.\n",
    "Instead, we use the following parametrization in polar coordinates:\n",
    "\\begin{equation}\n",
    "\t\\mathtt{x}\\cos\\theta + \\mathtt{y}\\sin\\theta = \\rho \\label{eq:hough_line}\n",
    "\\end{equation}\n",
    "This produces a sinusoidal curve in $(\\rho,\\theta)$-space, but otherwise the procedure is unchanged.\n",
    "\n",
    "The following sub-questions will guide you through the steps of building a Hough transform.\n",
    "\n",
    "## Hough voting\n",
    "Build up an accumulator array ``acc`` for the parameter space $(\\rho, \\theta)$. $\\theta$ ranges from $-\\pi/2$ to $\\pi/2$, and $\\rho$ ranges from $-D$ to $D$, where $D$ denotes the length of the image diagonal.\n",
    "Use ``n_bins_rho`` and ``n_bins_theta`` as the number of bins in each direction.\n",
    "Initially, the array should be filled with zeros.\n",
    "\n",
    "For each edge pixel in the input image, create the corresponding curve in $(\\rho, \\theta)$ space by evaluating above line equation for all values of $\\theta$ and incrementing the corresponding cells of the accumulator array."
   ]
  },
  {
   "cell_type": "code",
   "execution_count": null,
   "metadata": {
    "deletable": false,
    "nbgrader": {
     "cell_type": "code",
     "checksum": "a56d7aa0b330fa2fb38965c273665057",
     "grade": true,
     "grade_id": "cell-200580483b10b07d",
     "locked": false,
     "points": 5,
     "schema_version": 3,
     "solution": true
    }
   },
   "outputs": [],
   "source": [
    "# POINTS: 5\n",
    "\n",
    "def hough_transform(edge_image, n_bins_rho, n_bins_theta):\n",
    "    # Vote accumulator\n",
    "    votes = np.zeros((n_bins_rho, n_bins_theta), dtype=np.int)  \n",
    "    \n",
    "    # Create bins\n",
    "    diag = np.linalg.norm(edge_image.shape)  # Length of image diagonal\n",
    "    theta_bins = np.linspace(-np.pi / 2, np.pi / 2, n_bins_theta)\n",
    "    rho_bins = np.linspace(-diag, diag, n_bins_rho)\n",
    "    \n",
    "    # YOUR CODE HERE\n",
    "    raise NotImplementedError()\n",
    "    return votes, rho_bins, theta_bins"
   ]
  },
  {
   "cell_type": "markdown",
   "metadata": {
    "deletable": false,
    "editable": false,
    "nbgrader": {
     "cell_type": "markdown",
     "checksum": "12f641af8d0a2c9148fdf12a97d39e25",
     "grade": false,
     "grade_id": "cell-15119e3e172dac46",
     "locked": true,
     "schema_version": 3,
     "solution": false,
     "task": false
    }
   },
   "source": [
    "Now we can test the implementation on an example image and visualize the resulting Hough space by displaying it as a 2D image."
   ]
  },
  {
   "cell_type": "code",
   "execution_count": null,
   "metadata": {
    "deletable": false,
    "editable": false,
    "nbgrader": {
     "cell_type": "code",
     "checksum": "698653575aef709289746485f97a0717",
     "grade": false,
     "grade_id": "cell-a79abef7726b3a67",
     "locked": true,
     "schema_version": 3,
     "solution": false,
     "task": false
    }
   },
   "outputs": [],
   "source": [
    "color_im = imageio.imread('gantrycrane.png')\n",
    "gray_im = cv2.cvtColor(color_im, cv2.COLOR_RGB2GRAY)\n",
    "\n",
    "# Get edges using Canny\n",
    "blurred = cv2.GaussianBlur(gray_im, None, sigmaX=2.5)\n",
    "edges = cv2.Canny(blurred, threshold1=30, threshold2=50)\n",
    "\n",
    "hough_space, rho_bins, theta_bins = hough_transform(edges, n_bins_rho=300, n_bins_theta=300)\n",
    "\n",
    "fig, axes = plt.subplots(1, 3, figsize=(12, 4))\n",
    "axes[0].imshow(color_im)\n",
    "axes[0].set_title('Image')\n",
    "axes[1].imshow(edges, cmap='gray')\n",
    "axes[1].set_title('Edges')\n",
    "axes[2].imshow(hough_space)\n",
    "axes[2].set_title('Hough space')\n",
    "axes[2].set_xlabel('theta (index)')\n",
    "axes[2].set_ylabel('rho (index)')\n",
    "fig.tight_layout()"
   ]
  },
  {
   "cell_type": "markdown",
   "metadata": {
    "deletable": false,
    "editable": false,
    "nbgrader": {
     "cell_type": "markdown",
     "checksum": "441027c3c57a277a5612bb11becf3d6f",
     "grade": false,
     "grade_id": "cell-865d0e28d5bfc0ac",
     "locked": true,
     "schema_version": 3,
     "solution": false,
     "task": false
    }
   },
   "source": [
    "## Non-maximum suppression and finding peaks\n",
    "Write a function ``nms2d`` which suppresses all points in the Hough space that are not local maxima.\n",
    "This can be achieved by looking at the 8 direct neighbors of each pixel and keeping only pixels whose value is greater than all its neighbors. This function is simpler than the non-maximum suppression from the Canny Edge Detector exercise, since it does not take into account local gradients.\n",
    "\n",
    "Tip: think about what to do at the borders of the Hough array. What happens if we simply ignore the border areas? How should we treat it to be precise? (Remember that theta represents an angle that wraps around back to itself)."
   ]
  },
  {
   "cell_type": "code",
   "execution_count": null,
   "metadata": {
    "deletable": false,
    "nbgrader": {
     "cell_type": "code",
     "checksum": "1f68295d958f63e581ea993a1be5729c",
     "grade": true,
     "grade_id": "cell-6d4f7f4681882539",
     "locked": false,
     "points": 3,
     "schema_version": 3,
     "solution": true
    }
   },
   "outputs": [],
   "source": [
    "# POINTS: 3\n",
    "\n",
    "def nms2d(hough_array):\n",
    "    hough_array_out = np.zeros_like(hough_array)\n",
    "    \n",
    "    # YOUR CODE HERE\n",
    "    raise NotImplementedError()\n",
    "                \n",
    "    return hough_array_out"
   ]
  },
  {
   "cell_type": "markdown",
   "metadata": {
    "deletable": false,
    "editable": false,
    "nbgrader": {
     "cell_type": "markdown",
     "checksum": "32f28dd56c3641b40992e78d2060f8f6",
     "grade": false,
     "grade_id": "cell-7e060df45bec23a3",
     "locked": true,
     "schema_version": 3,
     "solution": false,
     "task": false
    }
   },
   "source": [
    "Write a function ``find_hough_peaks`` that takes the result of ``hough_transform`` as an argument, finds the extrema in Hough space using ``nms2d`` and returns the index of all points $(\\rho_i, \\theta_i)$ for which the corresponding Hough value is greater than ``threshold``. What would happen if we swapped the order of the thresholding and the NMS operations?"
   ]
  },
  {
   "cell_type": "code",
   "execution_count": null,
   "metadata": {
    "deletable": false,
    "nbgrader": {
     "cell_type": "code",
     "checksum": "98222cdbcb47366e2b1ebf970155fc7d",
     "grade": true,
     "grade_id": "cell-9eda7cc46c4f7235",
     "locked": false,
     "points": 1,
     "schema_version": 3,
     "solution": true
    }
   },
   "outputs": [],
   "source": [
    "# POINTS: 1\n",
    "\n",
    "def find_hough_peaks(hough_space, threshold):\n",
    "    # YOUR CODE HERE\n",
    "    raise NotImplementedError()"
   ]
  },
  {
   "cell_type": "markdown",
   "metadata": {
    "deletable": false,
    "editable": false,
    "nbgrader": {
     "cell_type": "markdown",
     "checksum": "b53884328815ddba544afed9dc5b97dc",
     "grade": false,
     "grade_id": "cell-bf1eaea0989ebcf2",
     "locked": true,
     "schema_version": 3,
     "solution": false,
     "task": false
    }
   },
   "source": [
    "Now, let's plot the results of your implementation. Are the results correct? Are there any undetected lines or wrong lines returned? If yes, why are those lines missing and why are there false positives? Can you think of ways to avoid those mistakes?"
   ]
  },
  {
   "cell_type": "code",
   "execution_count": null,
   "metadata": {
    "deletable": false,
    "editable": false,
    "nbgrader": {
     "cell_type": "code",
     "checksum": "9a6e7fcffa852f6ae5cb2865f44d9e70",
     "grade": false,
     "grade_id": "cell-907990be67623cc2",
     "locked": true,
     "schema_version": 3,
     "solution": false,
     "task": false
    }
   },
   "outputs": [],
   "source": [
    "def plot_hough_lines(image, rho, theta):\n",
    "    # compute start and ending point of the line x*cos(theta)+y*sin(theta)=rho\n",
    "    x0, x1 = 0, image.shape[1] - 1\n",
    "    y0 = rho / np.sin(theta)\n",
    "    y1 = (rho - x1 * np.cos(theta)) / np.sin(theta)\n",
    "\n",
    "    # Check out this page for more drawing function in OpenCV:\n",
    "    # https://docs.opencv.org/3.1.0/dc/da5/tutorial_py_drawing_functions.html\n",
    "    for yy0, yy1 in zip(y0, y1):\n",
    "        cv2.line(image, (x0, int(yy0)), (x1, int(yy1)), color=(255, 0, 0), thickness=1)\n",
    "\n",
    "    return image\n",
    "\n",
    "# Find maximum\n",
    "rho_max_idx, theta_max_idx = find_hough_peaks(hough_space, 200)\n",
    "print(f'gantrycrane.png: found {len(rho_max_idx)} lines in the image.')\n",
    "rho_max, theta_max = rho_bins[rho_max_idx], theta_bins[theta_max_idx]\n",
    "\n",
    "color_image = imageio.imread('gantrycrane.png')\n",
    "image_with_lines = plot_hough_lines(color_image, rho_max, theta_max)\n",
    "\n",
    "# Plot\n",
    "fig, ax = plt.subplots(figsize=(8, 4))\n",
    "ax.imshow(image_with_lines)"
   ]
  },
  {
   "cell_type": "code",
   "execution_count": null,
   "metadata": {
    "deletable": false,
    "editable": false,
    "nbgrader": {
     "cell_type": "code",
     "checksum": "ce967b453c52dadd20cd024357232209",
     "grade": false,
     "grade_id": "cell-9146a5deeb7f5014",
     "locked": true,
     "schema_version": 3,
     "solution": false,
     "task": false
    }
   },
   "outputs": [],
   "source": [
    "# Try another image\n",
    "im = imageio.imread('circuit.png')\n",
    "\n",
    "blurred = cv2.GaussianBlur(im, None, sigmaX=2)\n",
    "edge = cv2.Canny(blurred, threshold1=30, threshold2=90)\n",
    "hough_space, rho_bins, theta_bins = hough_transform(edge, n_bins_rho=300, n_bins_theta=300)\n",
    "\n",
    "# Find maximum\n",
    "rho_max_idx, theta_max_idx = find_hough_peaks(hough_space, 100)\n",
    "print(f'circuit.png: found {len(rho_max_idx)} lines in the image.')\n",
    "rho_max, theta_max = rho_bins[rho_max_idx], theta_bins[theta_max_idx]\n",
    "color_image = cv2.cvtColor(im, cv2.COLOR_GRAY2RGB)\n",
    "image_with_lines = plot_hough_lines(color_image, rho_max, theta_max)\n",
    "\n",
    "# Plot\n",
    "fig, ax = plt.subplots(figsize=(8, 4))\n",
    "ax.imshow(image_with_lines)\n",
    "fig.tight_layout()"
   ]
  },
  {
   "cell_type": "markdown",
   "metadata": {
    "deletable": false,
    "editable": false,
    "nbgrader": {
     "cell_type": "markdown",
     "checksum": "485921dd30b4e81e44c9f57078d5ce9e",
     "grade": false,
     "grade_id": "cell-4c4f254eda2f3934",
     "locked": true,
     "schema_version": 3,
     "solution": false,
     "task": false
    }
   },
   "source": [
    "## [OPTIONAL] Circle Hough transform for circles\n",
    "\n",
    "The Hough transform is a general technique that can not only be applied to lines, but also to other parametric curves, such as circles.\n",
    "In the following, we will show how the implementation can be extended to finding circles.\n",
    "\n",
    "A circle can be parameterized by the following equation:\n",
    "$$\t\n",
    "    (\\mathtt{x}-a)^2 + (\\mathtt{y}-b)^2 = r^2. \\label{eq:hough_circle}\n",
    "$$\n",
    "\n",
    "Unfortunately, the computation and memory requirements for the Hough transform increase exponentially with the number of parameters.\n",
    "While a 3D search space is still just feasible, we can dramatically reduce the amount of computation by integrating the gradient direction in the algorithm.\n",
    "\n",
    "Without gradient information, all values $a, b$ lying on the cone given by above equation are incremented.\n",
    "With the gradient information, we only need to increment points on an arc centered at $(a, b)$:\n",
    "\\begin{eqnarray}\n",
    "\ta &=& x + r\\cos\\phi\\\\\n",
    "\tb &=& y + r\\sin\\phi,\n",
    "\\end{eqnarray}\n",
    "where $\\phi$ is the gradient angle returned by the edge operator.\n",
    "\n",
    "Create a function ``hough_circle`` which implements the Hough transform for circles.\n",
    "Try your implementation for a practical application of counting coins in an image.\n",
    "You can use the images ``coins1.png`` and ``coins2.png`` for testing."
   ]
  },
  {
   "cell_type": "code",
   "execution_count": null,
   "metadata": {
    "deletable": false,
    "nbgrader": {
     "cell_type": "code",
     "checksum": "3f536f36e46b4aee218ff2c215245188",
     "grade": true,
     "grade_id": "cell-a5dacf84fd9a91bf",
     "locked": false,
     "points": 0,
     "schema_version": 3,
     "solution": true,
     "task": false
    }
   },
   "outputs": [],
   "source": [
    "# YOUR CODE HERE\n",
    "raise NotImplementedError()"
   ]
  },
  {
   "cell_type": "markdown",
   "metadata": {
    "deletable": false,
    "editable": false,
    "nbgrader": {
     "cell_type": "markdown",
     "checksum": "ce8da9c95316cec9ae27e4fc7fc25bed",
     "grade": false,
     "grade_id": "cell-41820471cfcf26e4",
     "locked": true,
     "schema_version": 3,
     "solution": false,
     "task": false
    }
   },
   "source": [
    "## [OPTIONAL] Line Hough transform with gradient information \n",
    "The same trick of using the image gradient can be used for lines.\n",
    "Modify the hough voting code to only vote for one line per edge pixel, instead of all the lines running through this pixel.\n",
    "Can you think of any disadvantages of this approach?"
   ]
  },
  {
   "cell_type": "code",
   "execution_count": null,
   "metadata": {
    "deletable": false,
    "nbgrader": {
     "cell_type": "code",
     "checksum": "467a127fdea81ed2a5a555c9a3bb8b93",
     "grade": true,
     "grade_id": "cell-e382b415b74d990b",
     "locked": false,
     "points": 0,
     "schema_version": 3,
     "solution": true,
     "task": false
    }
   },
   "outputs": [],
   "source": [
    "# YOUR CODE HERE\n",
    "raise NotImplementedError()"
   ]
  },
  {
   "cell_type": "markdown",
   "metadata": {
    "deletable": false,
    "editable": false,
    "nbgrader": {
     "cell_type": "markdown",
     "checksum": "a9b5632ddff78a43fb034b73009de4cc",
     "grade": false,
     "grade_id": "cell-9d22ec40eaf63a5e",
     "locked": true,
     "schema_version": 3,
     "solution": false,
     "task": false
    }
   },
   "source": [
    "## [OPTIONAL] Counting coins\n",
    "\n",
    "Can you build a demo application that takes a photo of several different Euro coins lying on a table as input and tells you how much money it is in total in Euros (i.e. the output is one number)?\n",
    "\n",
    "How well does it work when the coins start to overlap or lie on top of each other?\n",
    "\n",
    "Use the functions you wrote in the previous questions.\n",
    "(Hint: you may need to include a reference shape in the picture in order to obtain the absolute scale, i. e. to convert from pixels to millimeters)."
   ]
  },
  {
   "cell_type": "code",
   "execution_count": null,
   "metadata": {
    "deletable": false,
    "nbgrader": {
     "cell_type": "code",
     "checksum": "29b7e00c0630052ea82f55bccf4abb06",
     "grade": true,
     "grade_id": "cell-44df0dca84e96cbb",
     "locked": false,
     "points": 0,
     "schema_version": 3,
     "solution": true,
     "task": false
    }
   },
   "outputs": [],
   "source": [
    "# YOUR CODE HERE\n",
    "raise NotImplementedError()"
   ]
  }
 ],
 "metadata": {
  "kernelspec": {
   "display_name": "Python 3",
   "language": "python",
   "name": "python3"
  },
  "language_info": {
   "codemirror_mode": {
    "name": "ipython",
    "version": 3
   },
   "file_extension": ".py",
   "mimetype": "text/x-python",
   "name": "python",
   "nbconvert_exporter": "python",
   "pygments_lexer": "ipython3",
   "version": "3.7.4"
  }
 },
 "nbformat": 4,
 "nbformat_minor": 2
}
